{
 "cells": [
  {
   "cell_type": "markdown",
   "id": "ordered-observer",
   "metadata": {},
   "source": [
    "# Python Da Zero a Machine Learning\n",
    "\n",
    "Questo corso ti mostrerà attività relative a [python](https://www.python.org/) e al machine learning, partendo da zero e procedendo passo passo. Utilizzeremo [Jupyter lab](http://jupyterlab.io/) come ambiente di lavoro."
   ]
  },
  {
   "cell_type": "markdown",
   "id": "satisfactory-wrong",
   "metadata": {},
   "source": [
    "## Sommario\n",
    "\n",
    "- Introduzione a Python"
   ]
  }
 ],
 "metadata": {
  "kernelspec": {
   "display_name": "Python 3",
   "language": "python",
   "name": "python3"
  },
  "language_info": {
   "codemirror_mode": {
    "name": "ipython",
    "version": 3
   },
   "file_extension": ".py",
   "mimetype": "text/x-python",
   "name": "python",
   "nbconvert_exporter": "python",
   "pygments_lexer": "ipython3",
   "version": "3.9.1"
  }
 },
 "nbformat": 4,
 "nbformat_minor": 5
}
