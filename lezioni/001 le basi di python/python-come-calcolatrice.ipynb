{
 "cells": [
  {
   "cell_type": "markdown",
   "id": "cleared-banks",
   "metadata": {},
   "source": [
    "# Python Come Calcolatrice\n",
    "\n",
    "Il primo approccio a python è quello di \"testare\" l'interprete utilizzandolo come una calcolatrice evoluta"
   ]
  },
  {
   "cell_type": "code",
   "execution_count": 8,
   "id": "improved-quarter",
   "metadata": {},
   "outputs": [
    {
     "name": "stdout",
     "output_type": "stream",
     "text": [
      "4 6\n"
     ]
    }
   ],
   "source": [
    "print(2+2,3*2)"
   ]
  },
  {
   "cell_type": "code",
   "execution_count": 9,
   "id": "literary-triumph",
   "metadata": {},
   "outputs": [
    {
     "data": {
      "text/plain": [
       "-1"
      ]
     },
     "execution_count": 9,
     "metadata": {},
     "output_type": "execute_result"
    }
   ],
   "source": [
    "2-3"
   ]
  },
  {
   "cell_type": "code",
   "execution_count": 12,
   "id": "classical-vietnam",
   "metadata": {},
   "outputs": [
    {
     "data": {
      "text/plain": [
       "1024"
      ]
     },
     "execution_count": 12,
     "metadata": {},
     "output_type": "execute_result"
    }
   ],
   "source": [
    "2**10 # ** è elevamento a potenza"
   ]
  },
  {
   "cell_type": "code",
   "execution_count": 14,
   "id": "recognized-paragraph",
   "metadata": {},
   "outputs": [
    {
     "data": {
      "text/plain": [
       "0.6666666666666666"
      ]
     },
     "execution_count": 14,
     "metadata": {},
     "output_type": "execute_result"
    }
   ],
   "source": [
    "2/3"
   ]
  },
  {
   "cell_type": "code",
   "execution_count": 16,
   "id": "after-judgment",
   "metadata": {},
   "outputs": [
    {
     "data": {
      "text/plain": [
       "2"
      ]
     },
     "execution_count": 16,
     "metadata": {},
     "output_type": "execute_result"
    }
   ],
   "source": [
    "7//3"
   ]
  }
 ],
 "metadata": {
  "kernelspec": {
   "display_name": "Python 3",
   "language": "python",
   "name": "python3"
  },
  "language_info": {
   "codemirror_mode": {
    "name": "ipython",
    "version": 3
   },
   "file_extension": ".py",
   "mimetype": "text/x-python",
   "name": "python",
   "nbconvert_exporter": "python",
   "pygments_lexer": "ipython3",
   "version": "3.9.1"
  }
 },
 "nbformat": 4,
 "nbformat_minor": 5
}
