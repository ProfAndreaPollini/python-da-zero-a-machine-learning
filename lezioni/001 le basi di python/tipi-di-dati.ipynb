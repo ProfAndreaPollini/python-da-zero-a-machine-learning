{
 "cells": [
  {
   "cell_type": "markdown",
   "id": "roman-kingdom",
   "metadata": {},
   "source": [
    "# Tipi di dati in python\n",
    "\n",
    "Esempi sui principali tipi di dati in python"
   ]
  },
  {
   "cell_type": "code",
   "execution_count": 2,
   "id": "rational-discount",
   "metadata": {},
   "outputs": [
    {
     "data": {
      "text/plain": [
       "2"
      ]
     },
     "execution_count": 2,
     "metadata": {},
     "output_type": "execute_result"
    }
   ],
   "source": [
    "2 # intero"
   ]
  },
  {
   "cell_type": "code",
   "execution_count": 4,
   "id": "cellular-dylan",
   "metadata": {},
   "outputs": [
    {
     "data": {
      "text/plain": [
       "2.34"
      ]
     },
     "execution_count": 4,
     "metadata": {},
     "output_type": "execute_result"
    }
   ],
   "source": [
    "2.34 # float"
   ]
  },
  {
   "cell_type": "code",
   "execution_count": 6,
   "id": "brilliant-reader",
   "metadata": {},
   "outputs": [
    {
     "data": {
      "text/plain": [
       "'ciao a tutti'"
      ]
     },
     "execution_count": 6,
     "metadata": {},
     "output_type": "execute_result"
    }
   ],
   "source": [
    "\"ciao a tutti\""
   ]
  },
  {
   "cell_type": "code",
   "execution_count": 8,
   "id": "owned-homeless",
   "metadata": {},
   "outputs": [
    {
     "data": {
      "text/plain": [
       "'ciao a tutti'"
      ]
     },
     "execution_count": 8,
     "metadata": {},
     "output_type": "execute_result"
    }
   ],
   "source": [
    "'ciao a tutti'"
   ]
  },
  {
   "cell_type": "code",
   "execution_count": 10,
   "id": "loved-gabriel",
   "metadata": {},
   "outputs": [
    {
     "data": {
      "text/plain": [
       "'ciao a tutti'"
      ]
     },
     "execution_count": 10,
     "metadata": {},
     "output_type": "execute_result"
    }
   ],
   "source": [
    "\"\"\"ciao a tutti\"\"\""
   ]
  },
  {
   "cell_type": "code",
   "execution_count": 12,
   "id": "alternate-thanks",
   "metadata": {},
   "outputs": [
    {
     "data": {
      "text/plain": [
       "'ciao \"tutti'"
      ]
     },
     "execution_count": 12,
     "metadata": {},
     "output_type": "execute_result"
    }
   ],
   "source": [
    "\"ciao \\\"tutti\""
   ]
  },
  {
   "cell_type": "code",
   "execution_count": 13,
   "id": "furnished-tuition",
   "metadata": {},
   "outputs": [
    {
     "data": {
      "text/plain": [
       "'ciao \" tutti'"
      ]
     },
     "execution_count": 13,
     "metadata": {},
     "output_type": "execute_result"
    }
   ],
   "source": [
    "'ciao \" tutti'"
   ]
  },
  {
   "cell_type": "code",
   "execution_count": 15,
   "id": "domestic-strengthening",
   "metadata": {},
   "outputs": [
    {
     "data": {
      "text/plain": [
       "\"ciao 'tutti\""
      ]
     },
     "execution_count": 15,
     "metadata": {},
     "output_type": "execute_result"
    }
   ],
   "source": [
    "\"ciao 'tutti\""
   ]
  },
  {
   "cell_type": "code",
   "execution_count": 18,
   "id": "elementary-auckland",
   "metadata": {},
   "outputs": [
    {
     "name": "stdout",
     "output_type": "stream",
     "text": [
      "ciao\n",
      "a\n",
      "tutti\n"
     ]
    }
   ],
   "source": [
    "print(\"\"\"ciao\n",
    "a\n",
    "tutti\"\"\")\n"
   ]
  },
  {
   "cell_type": "code",
   "execution_count": 19,
   "id": "united-huntington",
   "metadata": {},
   "outputs": [
    {
     "name": "stdout",
     "output_type": "stream",
     "text": [
      "ciao\n",
      "a\n",
      "tutti\n"
     ]
    }
   ],
   "source": [
    "print(\"ciao\\na\\ntutti\")"
   ]
  }
 ],
 "metadata": {
  "kernelspec": {
   "display_name": "Python 3",
   "language": "python",
   "name": "python3"
  },
  "language_info": {
   "codemirror_mode": {
    "name": "ipython",
    "version": 3
   },
   "file_extension": ".py",
   "mimetype": "text/x-python",
   "name": "python",
   "nbconvert_exporter": "python",
   "pygments_lexer": "ipython3",
   "version": "3.9.1"
  }
 },
 "nbformat": 4,
 "nbformat_minor": 5
}
