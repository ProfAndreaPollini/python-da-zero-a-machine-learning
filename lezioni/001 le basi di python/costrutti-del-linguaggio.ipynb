{
 "cells": [
  {
   "cell_type": "markdown",
   "id": "earned-combine",
   "metadata": {},
   "source": [
    "# Costrutti di Python"
   ]
  },
  {
   "cell_type": "markdown",
   "id": "technological-amsterdam",
   "metadata": {},
   "source": [
    "## selezione"
   ]
  },
  {
   "cell_type": "code",
   "execution_count": 4,
   "id": "soviet-malaysia",
   "metadata": {},
   "outputs": [
    {
     "name": "stdout",
     "output_type": "stream",
     "text": [
      "a è negativo\n"
     ]
    }
   ],
   "source": [
    "a = -1\n",
    "\n",
    "if a >= 0:\n",
    "    print(\"a è positivo\")\n",
    "    \n",
    "if a < 0:\n",
    "    print(\"a è negativo\")"
   ]
  },
  {
   "cell_type": "code",
   "execution_count": 6,
   "id": "lightweight-overall",
   "metadata": {},
   "outputs": [
    {
     "name": "stdout",
     "output_type": "stream",
     "text": [
      "a è negativo\n"
     ]
    }
   ],
   "source": [
    "a = -1\n",
    "\n",
    "if a >= 0:\n",
    "    print(\"a è positivo\")\n",
    "else:\n",
    "    print(\"a è negativo\")"
   ]
  },
  {
   "cell_type": "code",
   "execution_count": 12,
   "id": "aggressive-blood",
   "metadata": {},
   "outputs": [
    {
     "name": "stdout",
     "output_type": "stream",
     "text": [
      "a è zero\n"
     ]
    }
   ],
   "source": [
    "a = 0\n",
    "\n",
    "if a > 0:\n",
    "    print(\"a è positivo\")\n",
    "elif a == 0:\n",
    "    print(\"a è zero\")\n",
    "else:\n",
    "    print(\"a è negativo\")"
   ]
  },
  {
   "cell_type": "markdown",
   "id": "waiting-northern",
   "metadata": {},
   "source": [
    "## Iterazione\n",
    "\n"
   ]
  },
  {
   "cell_type": "code",
   "execution_count": 14,
   "id": "large-market",
   "metadata": {},
   "outputs": [
    {
     "name": "stdout",
     "output_type": "stream",
     "text": [
      "1\n",
      "233\n",
      "34\n"
     ]
    }
   ],
   "source": [
    "a = [1,233,34]\n",
    "\n",
    "for elemento in a:\n",
    "    print(elemento)"
   ]
  },
  {
   "cell_type": "code",
   "execution_count": 19,
   "id": "double-graduation",
   "metadata": {},
   "outputs": [
    {
     "name": "stdout",
     "output_type": "stream",
     "text": [
      "l'elemento corrente è positivo\n",
      "l'elemento corrente è negativo\n",
      "l'elemento corrente è positivo\n",
      "l'elemento corrente è negativo\n",
      "l'elemento corrente è positivo\n",
      "end.\n"
     ]
    }
   ],
   "source": [
    "a = [1,-233,34,-2,0]\n",
    "\n",
    "for y in a:\n",
    "    if y >= 0:\n",
    "        print(\"l'elemento corrente è positivo\")\n",
    "    else:\n",
    "        print(\"l'elemento corrente è negativo\")\n",
    "print(\"end.\")"
   ]
  },
  {
   "cell_type": "markdown",
   "id": "divine-eclipse",
   "metadata": {},
   "source": [
    "## costrutto while"
   ]
  },
  {
   "cell_type": "markdown",
   "id": "recreational-physics",
   "metadata": {},
   "source": [
    "ES: l'utente inserisce numeri interi. Fino a che non inserisce zero il programma continua a chiedere un ulteriore numero quando viene inserito lo zero il programma termina"
   ]
  },
  {
   "cell_type": "code",
   "execution_count": 20,
   "id": "opposed-syria",
   "metadata": {},
   "outputs": [
    {
     "name": "stdin",
     "output_type": "stream",
     "text": [
      "Inserire un numero:  2\n",
      "Inserire un numero:  3\n",
      "Inserire un numero:  -2\n",
      "Inserire un numero:  -6\n",
      "Inserire un numero:  -1234\n",
      "Inserire un numero:  0\n"
     ]
    },
    {
     "name": "stdout",
     "output_type": "stream",
     "text": [
      "end.\n"
     ]
    }
   ],
   "source": [
    "inserito_zero = False\n",
    "\n",
    "def is_zero(x):\n",
    "    return x==0\n",
    "\n",
    "while not inserito_zero:\n",
    "    x = int(input(\"Inserire un numero: \"))\n",
    "    if is_zero(x):\n",
    "        inserito_zero = True\n",
    "        \n",
    "print(\"end.\")"
   ]
  }
 ],
 "metadata": {
  "kernelspec": {
   "display_name": "Python 3",
   "language": "python",
   "name": "python3"
  },
  "language_info": {
   "codemirror_mode": {
    "name": "ipython",
    "version": 3
   },
   "file_extension": ".py",
   "mimetype": "text/x-python",
   "name": "python",
   "nbconvert_exporter": "python",
   "pygments_lexer": "ipython3",
   "version": "3.9.1"
  }
 },
 "nbformat": 4,
 "nbformat_minor": 5
}
