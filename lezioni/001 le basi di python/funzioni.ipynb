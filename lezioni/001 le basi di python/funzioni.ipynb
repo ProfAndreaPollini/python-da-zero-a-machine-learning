{
 "cells": [
  {
   "cell_type": "markdown",
   "id": "invalid-campaign",
   "metadata": {},
   "source": [
    "# funzioni in python"
   ]
  },
  {
   "cell_type": "code",
   "execution_count": 1,
   "id": "integrated-garbage",
   "metadata": {},
   "outputs": [],
   "source": [
    "def funzione_utilissima(a,b):\n",
    "    return a+b"
   ]
  },
  {
   "cell_type": "code",
   "execution_count": 5,
   "id": "handled-hampshire",
   "metadata": {},
   "outputs": [
    {
     "data": {
      "text/plain": [
       "'12'"
      ]
     },
     "execution_count": 5,
     "metadata": {},
     "output_type": "execute_result"
    }
   ],
   "source": [
    "funzione_utilissima(\"1\",\"2\")"
   ]
  },
  {
   "cell_type": "code",
   "execution_count": 10,
   "id": "serious-cooperation",
   "metadata": {},
   "outputs": [
    {
     "data": {
      "text/plain": [
       "8"
      ]
     },
     "execution_count": 10,
     "metadata": {},
     "output_type": "execute_result"
    }
   ],
   "source": [
    "def potenza(x,e=2):\n",
    "    return x**e\n",
    "\n",
    "potenza(2,3)"
   ]
  },
  {
   "cell_type": "code",
   "execution_count": 17,
   "id": "above-belief",
   "metadata": {},
   "outputs": [
    {
     "name": "stdout",
     "output_type": "stream",
     "text": [
      "potenza(2,2,20)\n",
      "24\n"
     ]
    }
   ],
   "source": [
    "def potenza(x,e=2,b=1):\n",
    "    print(f\"potenza({x},{e},{b})\")\n",
    "    return x**e+b\n",
    "\n",
    "c = potenza(2,b=20)\n",
    "print(c)"
   ]
  },
  {
   "cell_type": "code",
   "execution_count": 22,
   "id": "banned-concentration",
   "metadata": {},
   "outputs": [
    {
     "name": "stdout",
     "output_type": "stream",
     "text": [
      "0\n"
     ]
    }
   ],
   "source": [
    "\n",
    "def positivo(x):\n",
    "    return x > 0\n",
    "\n",
    "def segno(x):\n",
    "    if positivo(x):\n",
    "        return 1\n",
    "    elif x == 0:\n",
    "        return 0\n",
    "    else:\n",
    "        return -1\n",
    "    \n",
    "print(segno(0))"
   ]
  },
  {
   "cell_type": "code",
   "execution_count": 24,
   "id": "brave-spell",
   "metadata": {},
   "outputs": [
    {
     "name": "stdout",
     "output_type": "stream",
     "text": [
      "-1\n",
      "1\n",
      "1\n",
      "0\n"
     ]
    }
   ],
   "source": [
    "l = [-1,5,78,0]\n",
    "\n",
    "for y in l:\n",
    "    print(segno(y))"
   ]
  }
 ],
 "metadata": {
  "kernelspec": {
   "display_name": "Python 3",
   "language": "python",
   "name": "python3"
  },
  "language_info": {
   "codemirror_mode": {
    "name": "ipython",
    "version": 3
   },
   "file_extension": ".py",
   "mimetype": "text/x-python",
   "name": "python",
   "nbconvert_exporter": "python",
   "pygments_lexer": "ipython3",
   "version": "3.9.1"
  }
 },
 "nbformat": 4,
 "nbformat_minor": 5
}
