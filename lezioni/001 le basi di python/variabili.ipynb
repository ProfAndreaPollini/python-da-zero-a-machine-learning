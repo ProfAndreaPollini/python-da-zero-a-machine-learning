{
 "cells": [
  {
   "cell_type": "markdown",
   "id": "widespread-barbados",
   "metadata": {},
   "source": [
    "# variabili in python"
   ]
  },
  {
   "cell_type": "code",
   "execution_count": 2,
   "id": "incident-lawyer",
   "metadata": {},
   "outputs": [],
   "source": [
    "a = 2"
   ]
  },
  {
   "cell_type": "code",
   "execution_count": 3,
   "id": "judicial-holly",
   "metadata": {},
   "outputs": [],
   "source": [
    "a=\"pippo\""
   ]
  },
  {
   "cell_type": "code",
   "execution_count": 4,
   "id": "collective-medicine",
   "metadata": {},
   "outputs": [
    {
     "name": "stdout",
     "output_type": "stream",
     "text": [
      "pippo\n"
     ]
    }
   ],
   "source": [
    "print(a)"
   ]
  },
  {
   "cell_type": "markdown",
   "id": "acoustic-parish",
   "metadata": {},
   "source": [
    "## Richiamare un metodo\n",
    "\n",
    "i metodi sono funzioni associate a dei tipi di dati e operano sul valore dell'oggetto che rappresentano"
   ]
  },
  {
   "cell_type": "code",
   "execution_count": 5,
   "id": "powered-cigarette",
   "metadata": {},
   "outputs": [
    {
     "data": {
      "text/plain": [
       "'PIPPO'"
      ]
     },
     "execution_count": 5,
     "metadata": {},
     "output_type": "execute_result"
    }
   ],
   "source": [
    "a.upper()"
   ]
  },
  {
   "cell_type": "markdown",
   "id": "skilled-invite",
   "metadata": {},
   "source": [
    "## lavorare con le variabili\n"
   ]
  },
  {
   "cell_type": "code",
   "execution_count": 7,
   "id": "retired-ghana",
   "metadata": {},
   "outputs": [],
   "source": [
    "a = 2"
   ]
  },
  {
   "cell_type": "code",
   "execution_count": 9,
   "id": "protective-wayne",
   "metadata": {},
   "outputs": [
    {
     "name": "stdout",
     "output_type": "stream",
     "text": [
      "5\n"
     ]
    }
   ],
   "source": [
    "b=3\n",
    "print(a+b)"
   ]
  },
  {
   "cell_type": "code",
   "execution_count": 15,
   "id": "satellite-technology",
   "metadata": {},
   "outputs": [
    {
     "name": "stdout",
     "output_type": "stream",
     "text": [
      "pippopluto\n"
     ]
    }
   ],
   "source": [
    "print(\"pippo\"+ \"pluto\")"
   ]
  },
  {
   "cell_type": "code",
   "execution_count": 20,
   "id": "second-visitor",
   "metadata": {},
   "outputs": [
    {
     "name": "stdout",
     "output_type": "stream",
     "text": [
      "********************\n"
     ]
    }
   ],
   "source": [
    "print(\"*\"*20)"
   ]
  },
  {
   "cell_type": "markdown",
   "id": "alien-individual",
   "metadata": {},
   "source": [
    "## Input utente\n",
    "\n",
    "come faccio a chiedere all'utente dei dati su cui lavorare?"
   ]
  },
  {
   "cell_type": "code",
   "execution_count": 27,
   "id": "facial-international",
   "metadata": {},
   "outputs": [
    {
     "name": "stdin",
     "output_type": "stream",
     "text": [
      "> 3.14\n"
     ]
    },
    {
     "name": "stdout",
     "output_type": "stream",
     "text": [
      "hai inserito il valore 3.14\n",
      "7.140000000000001\n"
     ]
    }
   ],
   "source": [
    "a = input(\">\")\n",
    "a = float(a)\n",
    "print(\"hai inserito il valore\",a)\n",
    "print(a+4)"
   ]
  }
 ],
 "metadata": {
  "kernelspec": {
   "display_name": "Python 3",
   "language": "python",
   "name": "python3"
  },
  "language_info": {
   "codemirror_mode": {
    "name": "ipython",
    "version": 3
   },
   "file_extension": ".py",
   "mimetype": "text/x-python",
   "name": "python",
   "nbconvert_exporter": "python",
   "pygments_lexer": "ipython3",
   "version": "3.9.1"
  }
 },
 "nbformat": 4,
 "nbformat_minor": 5
}
