{
 "cells": [
  {
   "cell_type": "markdown",
   "id": "tropical-cambodia",
   "metadata": {},
   "source": [
    "# variabili in python"
   ]
  },
  {
   "cell_type": "code",
   "execution_count": 14,
   "id": "statistical-account",
   "metadata": {},
   "outputs": [],
   "source": [
    "a = 2"
   ]
  },
  {
   "cell_type": "code",
   "execution_count": 15,
   "id": "latin-bryan",
   "metadata": {},
   "outputs": [],
   "source": [
    "a=\"pippo\""
   ]
  },
  {
   "cell_type": "code",
   "execution_count": 18,
   "id": "pediatric-gibson",
   "metadata": {},
   "outputs": [],
   "source": [
    "print(a)"
   ]
  },
  {
   "cell_type": "markdown",
   "id": "adjustable-discovery",
   "metadata": {},
   "source": [
    "## Richiamare un metodo\n",
    "\n",
    "i metodi sono funzioni associate a dei tipi di dati e operano sul valore dell'oggetto che rappresentano"
   ]
  },
  {
   "cell_type": "code",
   "execution_count": 17,
   "id": "every-webster",
   "metadata": {},
   "outputs": [
    {
     "data": {
      "text/plain": [
       "'PIPPO'"
      ]
     },
     "execution_count": 17,
     "metadata": {},
     "output_type": "execute_result"
    }
   ],
   "source": [
    "a.upper()"
   ]
  }
 ],
 "metadata": {
  "kernelspec": {
   "display_name": "Python 3",
   "language": "python",
   "name": "python3"
  },
  "language_info": {
   "codemirror_mode": {
    "name": "ipython",
    "version": 3
   },
   "file_extension": ".py",
   "mimetype": "text/x-python",
   "name": "python",
   "nbconvert_exporter": "python",
   "pygments_lexer": "ipython3",
   "version": "3.9.1"
  }
 },
 "nbformat": 4,
 "nbformat_minor": 5
}
