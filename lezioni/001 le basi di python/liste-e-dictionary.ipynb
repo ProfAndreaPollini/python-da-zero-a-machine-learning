{
 "cells": [
  {
   "cell_type": "markdown",
   "id": "stable-steps",
   "metadata": {},
   "source": [
    "# Liste e dizionari in python "
   ]
  },
  {
   "cell_type": "code",
   "execution_count": 2,
   "id": "timely-shame",
   "metadata": {},
   "outputs": [
    {
     "name": "stdout",
     "output_type": "stream",
     "text": [
      "1\n",
      "2\n",
      "4\n",
      "5646\n"
     ]
    }
   ],
   "source": [
    "a = [1,2,4,5646]\n",
    "for el in a:\n",
    "    print(el)"
   ]
  },
  {
   "cell_type": "code",
   "execution_count": 10,
   "id": "arctic-nursing",
   "metadata": {},
   "outputs": [
    {
     "name": "stdout",
     "output_type": "stream",
     "text": [
      "[]\n",
      "[2]\n",
      "pippo\n",
      "[2]\n",
      "[1, 5646]\n"
     ]
    }
   ],
   "source": [
    "b = []\n",
    "print(b)\n",
    "b.append(2)\n",
    "print(b)\n",
    "b.append(\"pippo\")\n",
    "print(b.pop())\n",
    "print(b)\n",
    "del a[1]\n",
    "print(a)"
   ]
  },
  {
   "cell_type": "code",
   "execution_count": 14,
   "id": "chicken-glasgow",
   "metadata": {},
   "outputs": [],
   "source": [
    "a = [1,2,3,4]\n",
    "del a[1]\n"
   ]
  },
  {
   "cell_type": "code",
   "execution_count": 19,
   "id": "bigger-reader",
   "metadata": {},
   "outputs": [
    {
     "name": "stdout",
     "output_type": "stream",
     "text": [
      "0 = 3\n",
      "1 = 1\n",
      "2 = 7\n",
      "3 = 4\n",
      "4 = 9\n"
     ]
    }
   ],
   "source": [
    "X = [3,1,7,4,9]\n",
    "for pos,y in enumerate(X):\n",
    "    print(f\"{pos} = {y}\")"
   ]
  },
  {
   "cell_type": "code",
   "execution_count": 24,
   "id": "sublime-glasgow",
   "metadata": {},
   "outputs": [
    {
     "name": "stdout",
     "output_type": "stream",
     "text": [
      "1\n",
      "3\n",
      "4\n",
      "7\n",
      "9\n"
     ]
    },
    {
     "data": {
      "text/plain": [
       "[1, 3, 4, 7, 9]"
      ]
     },
     "execution_count": 24,
     "metadata": {},
     "output_type": "execute_result"
    }
   ],
   "source": [
    "for y in sorted(X):\n",
    "    print(f\"{y}\")\n",
    "X.sort()\n",
    "X"
   ]
  },
  {
   "cell_type": "markdown",
   "id": "extensive-glenn",
   "metadata": {},
   "source": [
    "## Dictionary\n",
    "\n",
    "array associativo. associa ad una chiave un valore"
   ]
  },
  {
   "cell_type": "code",
   "execution_count": 32,
   "id": "criminal-abortion",
   "metadata": {},
   "outputs": [
    {
     "name": "stdout",
     "output_type": "stream",
     "text": [
      "pippo => pluto\n",
      "valori => [12, 35]\n",
      "pippo => pluto\n",
      "valori => [12, 35]\n"
     ]
    }
   ],
   "source": [
    "d = {}\n",
    "d['k1'] =1\n",
    "d['pippo'] = 'pluto'\n",
    "d['valori'] = [12,35]\n",
    "\n",
    "del d['k1']\n",
    "d\n",
    "\n",
    "for x in d:\n",
    "    print(f\"{x} => {d[x]}\")\n",
    "    \n",
    "for k,v in d.items():\n",
    "    print(f\"{k} => {v}\")"
   ]
  }
 ],
 "metadata": {
  "kernelspec": {
   "display_name": "Python 3",
   "language": "python",
   "name": "python3"
  },
  "language_info": {
   "codemirror_mode": {
    "name": "ipython",
    "version": 3
   },
   "file_extension": ".py",
   "mimetype": "text/x-python",
   "name": "python",
   "nbconvert_exporter": "python",
   "pygments_lexer": "ipython3",
   "version": "3.9.1"
  }
 },
 "nbformat": 4,
 "nbformat_minor": 5
}
